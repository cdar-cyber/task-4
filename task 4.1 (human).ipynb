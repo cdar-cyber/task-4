{
 "cells": [
  {
   "cell_type": "code",
   "execution_count": 5,
   "metadata": {},
   "outputs": [],
   "source": [
    "import cv2\n",
    "import numpy"
   ]
  },
  {
   "cell_type": "code",
   "execution_count": 6,
   "metadata": {},
   "outputs": [],
   "source": [
    "ph = numpy.zeros((500, 500, 3))"
   ]
  },
  {
   "cell_type": "code",
   "execution_count": 7,
   "metadata": {},
   "outputs": [],
   "source": [
    "# Face\n",
    "ph[50:200, 166:334] = [255,255,0]\n",
    "\n",
    "# right eye\n",
    "ph[100:122, 200:220] = [0,0,0]\n",
    "# left eye\n",
    "ph[108:115, 290:310] = [0,0,0]\n",
    "\n",
    "# Mouth\n",
    "ph[150:165, 196:309] = [0,0,0]\n",
    "# Toungue\n",
    "ph[165:185, 238:268] = [0,0,255]\n",
    "\n",
    "# body\n",
    "ph[200:330, 220:280] = [0, 255, 255]\n",
    "# lower body\n",
    "ph[300:330, 200:300] = [0,0,255]\n",
    "\n",
    "# Right leg\n",
    "ph[330:450, 200:234] = [0,0,255]\n",
    "# Left Leg\n",
    "ph[330:450, 266:300] = [0,0,255]\n",
    "\n",
    "# Right hand\n",
    "ph[220:230, 110:220] = [255,0,0]\n",
    "# Left hand\n",
    "ph[220:230, 280:390] = [255,0,0]"
   ]
  },
  {
   "cell_type": "code",
   "execution_count": 8,
   "metadata": {},
   "outputs": [],
   "source": [
    "cv2.imshow(\"photo\", ph)\n",
    "cv2.waitKey()\n",
    "cv2.destroyAllWindows()"
   ]
  },
  {
   "cell_type": "code",
   "execution_count": null,
   "metadata": {},
   "outputs": [],
   "source": []
  }
 ],
 "metadata": {
  "kernelspec": {
   "display_name": "Python 3",
   "language": "python",
   "name": "python3"
  },
  "language_info": {
   "codemirror_mode": {
    "name": "ipython",
    "version": 3
   },
   "file_extension": ".py",
   "mimetype": "text/x-python",
   "name": "python",
   "nbconvert_exporter": "python",
   "pygments_lexer": "ipython3",
   "version": "3.8.3"
  }
 },
 "nbformat": 4,
 "nbformat_minor": 4
}
